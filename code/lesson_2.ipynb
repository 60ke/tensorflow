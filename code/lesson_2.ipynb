{
 "cells": [
  {
   "cell_type": "code",
   "execution_count": 1,
   "metadata": {},
   "outputs": [
    {
     "name": "stdout",
     "output_type": "stream",
     "text": [
      "23\n"
     ]
    }
   ],
   "source": [
    "from __future__ import print_function, division\n",
    "import tensorflow as tf\n",
    "# 定义两个常量，值分别为5和3\n",
    "a = tf.constant(5, name=\"input_a\")\n",
    "b = tf.constant(3, name=\"input_b\")\n",
    "# 定义运算操作\n",
    "c = tf.multiply(a, b, name=\"mul_c\")\n",
    "d = tf.add(a, b, name=\"add_d\")\n",
    "e = tf.add(c, d, name=\"add_e\")\n",
    "\n",
    "# 创建会话，并开始运算\n",
    "# 注意会话是必需的，会话开始前不会进行任何运算\n",
    "with tf.Session() as sess:\n",
    "    print(sess.run(e)) # Output => 23\n",
    "    writer = tf.summary.FileWriter(\"./hello_graph\", sess.graph)\n",
    "    writer.flush()\n",
    "    writer.close()"
   ]
  },
  {
   "cell_type": "code",
   "execution_count": null,
   "metadata": {},
   "outputs": [],
   "source": []
  }
 ],
 "metadata": {
  "kernelspec": {
   "display_name": "Python 2",
   "language": "python",
   "name": "python2"
  },
  "language_info": {
   "codemirror_mode": {
    "name": "ipython",
    "version": 2
   },
   "file_extension": ".py",
   "mimetype": "text/x-python",
   "name": "python",
   "nbconvert_exporter": "python",
   "pygments_lexer": "ipython2",
   "version": "2.7.12"
  }
 },
 "nbformat": 4,
 "nbformat_minor": 2
}
