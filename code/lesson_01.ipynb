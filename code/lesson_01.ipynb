#导入包
import numpy as np
import tensorflow as tf

#定义函数
x=np.random.rand(100).astype(np.float32)
y=x*0.1+0.3

#建立神经计算结构
Weight=tf.Variable(tf.random_uniform([1],-1.0,1.0))
biases=tf.Variable(tf.zeros([1]))
new_y=Weight*x+biases

#判断及建立训练器
loss=tf.reduce_mean(tf.square(new_y-y))
optimizer=tf.train.GradientDescentOptimizer(0.5)
train=optimizer.minimize(loss)

#训练开始
init=tf.initialize_all_variables()
sess=tf.Session()  #建立TensorFlow训练会话
sess.run(init)     #将训练结构装载到会话中

for  step in range(1000): #循环训练400次
	     sess.run(train)  #使用训练器根据训练结构进行训练
	     if  step%20==0:  #每20次打印一次训练结果
	        print(step,sess.run(Weight),sess.run(biases)) #训练次数，A值，B值
