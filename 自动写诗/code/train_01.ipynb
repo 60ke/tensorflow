{
 "cells": [
  {
   "cell_type": "code",
   "execution_count": 21,
   "metadata": {},
   "outputs": [
    {
     "name": "stdout",
     "output_type": "stream",
     "text": [
      "不符合:  3325 晦日宴高氏林亭 0\n",
      "不符合:  8327 峨眉东脚临江听猿，怀二室旧庐 0\n",
      "不符合:  8505 省中即事 0\n",
      "不符合:  11804 九日登高 0\n",
      "不符合:  14638 烂柯山四首。石桥 0\n",
      "不符合:  14639 烂柯山四首。仙人棋 0\n",
      "不符合:  14640 烂柯山四首。石室二禅师 0\n",
      "不符合:  17651 春堤曲 2\n",
      "不符合:  18225 秦宫诗 0\n",
      "不符合:  33889 风雨吟 0\n",
      "不符合:  42331 桂管童谣 0\n",
      "不符合:  42764 江城子 0\n",
      "唐诗总数:  42488\n",
      "1.4.0\n"
     ]
    }
   ],
   "source": [
    "#coding:utf-8\n",
    "import collections\n",
    "import numpy as np\n",
    "import tensorflow as tf\n",
    "import codecs\n",
    "#-------------------------------数据预处理---------------------------#\n",
    "\n",
    "poetry_file ='poetry.txt'\n",
    "\n",
    "# 诗集\n",
    "poetrys = []\n",
    "with open(poetry_file, \"r\", encoding='utf-8') as f:\n",
    "    #for line in f:\n",
    "    for (k,line) in enumerate(f):\n",
    "      try:\n",
    "            title, content = line.strip().split(':')\n",
    "            content = content.replace(' ','')\n",
    "            if '_' in content or '(' in content or '（' in content or '《' in content or '[' in content:\n",
    "                continue\n",
    "            if len(content) < 5 or len(content) > 100079:\n",
    "                print('不符合: ', k+1,title,len(content))\n",
    "                continue\n",
    "            content = '[' + content + ']'\n",
    "            poetrys.append(content)\n",
    "      except Exception as e:\n",
    "            pass\n",
    "\n",
    "# 按诗的字数排序\n",
    "poetrys = sorted(poetrys,key=lambda line: len(line))\n",
    "print('唐诗总数: ', len(poetrys))\n",
    "\n",
    "\n",
    "import tensorflow as tf\n",
    "print(tf.__version__)"
   ]
  },
  {
   "cell_type": "code",
   "execution_count": null,
   "metadata": {},
   "outputs": [],
   "source": []
  },
  {
   "cell_type": "code",
   "execution_count": null,
   "metadata": {},
   "outputs": [],
   "source": []
  },
  {
   "cell_type": "code",
   "execution_count": null,
   "metadata": {},
   "outputs": [],
   "source": []
  },
  {
   "cell_type": "code",
   "execution_count": null,
   "metadata": {},
   "outputs": [],
   "source": []
  },
  {
   "cell_type": "code",
   "execution_count": null,
   "metadata": {},
   "outputs": [],
   "source": []
  },
  {
   "cell_type": "code",
   "execution_count": null,
   "metadata": {},
   "outputs": [],
   "source": []
  },
  {
   "cell_type": "code",
   "execution_count": null,
   "metadata": {},
   "outputs": [],
   "source": []
  },
  {
   "cell_type": "code",
   "execution_count": null,
   "metadata": {},
   "outputs": [],
   "source": []
  }
 ],
 "metadata": {
  "kernelspec": {
   "display_name": "Python 3",
   "language": "python",
   "name": "python3"
  }
 },
 "nbformat": 4,
 "nbformat_minor": 2
}
