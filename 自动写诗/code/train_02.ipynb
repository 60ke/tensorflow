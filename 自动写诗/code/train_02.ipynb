{
 "cells": [
  {
   "cell_type": "code",
   "execution_count": 4,
   "metadata": {},
   "outputs": [
    {
     "name": "stdout",
     "output_type": "stream",
     "text": [
      "唐诗总数:  34646\n",
      "34646\n"
     ]
    }
   ],
   "source": [
    "#coding:utf-8\n",
    "import collections\n",
    "import numpy as np\n",
    "import tensorflow as tf\n",
    "import codecs\n",
    "#-------------------------------数据预处理---------------------------#\n",
    "\n",
    "poetry_file ='poetry.txt'\n",
    "\n",
    "# 诗集\n",
    "poetrys = []\n",
    "with open(poetry_file, \"r\", encoding='utf-8') as f:\n",
    "    #for line in f:\n",
    "    for (k,line) in enumerate(f):\n",
    "      try:\n",
    "            title, content = line.strip().split(':')\n",
    "            content = content.replace(' ','')\n",
    "            if '_' in content or '(' in content or '（' in content or '《' in content or '[' in content:\n",
    "                continue\n",
    "            if len(content) < 5 or len(content) > 79:\n",
    "                continue\n",
    "            content = '[' + content + ']'\n",
    "            poetrys.append(content)\n",
    "      except Exception as e:\n",
    "            pass\n",
    "\n",
    "# 按诗的字数排序\n",
    "poetrys = sorted(poetrys,key=lambda line: len(line))\n",
    "print('唐诗总数: ', len(poetrys))\n",
    "\n",
    "\n",
    "# 统计每个字出现次数\n",
    "all_words = []\n",
    "for poetry in poetrys[0:10]:\n",
    "    all_words += [word for word in poetry]\n",
    "counter = collections.Counter(all_words)\n",
    "count_pairs = sorted(counter.items(), key=lambda x: -x[1])\n",
    "words, _ = zip(*count_pairs)\n",
    "\n",
    "\n",
    "# 取前多少个常用字\n",
    "words = words[:len(words)] + (' ',)\n",
    "# 每个字映射为一个数字ID\n",
    "word_num_map = dict(zip(words, range(len(words))))\n",
    "# 把诗转换为向量形式\n",
    "to_num = lambda word: word_num_map.get(word, len(words))\n",
    "poetrys_vector = [ list(map(to_num, poetry)) for poetry in poetrys]\n",
    "print(len(poetrys_vector))"
   ]
  },
  {
   "cell_type": "code",
   "execution_count": null,
   "metadata": {},
   "outputs": [],
   "source": []
  },
  {
   "cell_type": "code",
   "execution_count": null,
   "metadata": {},
   "outputs": [],
   "source": []
  },
  {
   "cell_type": "code",
   "execution_count": null,
   "metadata": {},
   "outputs": [],
   "source": []
  },
  {
   "cell_type": "code",
   "execution_count": null,
   "metadata": {},
   "outputs": [],
   "source": []
  },
  {
   "cell_type": "code",
   "execution_count": null,
   "metadata": {},
   "outputs": [],
   "source": []
  },
  {
   "cell_type": "code",
   "execution_count": null,
   "metadata": {},
   "outputs": [],
   "source": []
  },
  {
   "cell_type": "code",
   "execution_count": null,
   "metadata": {},
   "outputs": [],
   "source": []
  },
  {
   "cell_type": "code",
   "execution_count": null,
   "metadata": {},
   "outputs": [],
   "source": []
  }
 ],
 "metadata": {
  "kernelspec": {
   "display_name": "Python 3",
   "language": "python",
   "name": "python3"
  },
  "language_info": {
   "codemirror_mode": {
    "name": "ipython",
    "version": 3
   },
   "file_extension": ".py",
   "mimetype": "text/x-python",
   "name": "python",
   "nbconvert_exporter": "python",
   "pygments_lexer": "ipython3",
   "version": "3.5.2"
  }
 },
 "nbformat": 4,
 "nbformat_minor": 2
}
